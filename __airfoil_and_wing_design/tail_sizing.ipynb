{
 "cells": [
  {
   "cell_type": "code",
   "execution_count": 1,
   "metadata": {},
   "outputs": [],
   "source": [
    "import math\n",
    "import numpy as np\n",
    "from ambiance import Atmosphere\n",
    "import matplotlib.pyplot as plt\n",
    "import csv\n",
    "\n",
    "\n",
    "%matplotlib inline\n",
    "\n",
    "# Defining atmospheric conditions with a function\n",
    "def ambient_props(altitude_meters):\n",
    "    atmosphere = Atmosphere(altitude_meters)\n",
    "    rho = atmosphere.density\n",
    "    nu = atmosphere.kinematic_viscosity\n",
    "    T = atmosphere.temperature\n",
    "    g = atmosphere.grav_accel\n",
    "    return rho, nu, T, g\n",
    "\n",
    "# Import all the variables\n",
    "altitude = 0 # ASL in metres \n",
    "altitide_cruise = 4000 # ASL in metres \n",
    "## Do not change the following ______________________:)\n",
    "air = ambient_props(altitude)\n",
    "rho, nu ,  T, g = air[0], air[1], air[2], air[3]\n",
    "## __________________________________________________:)"
   ]
  },
  {
   "cell_type": "code",
   "execution_count": 2,
   "metadata": {},
   "outputs": [],
   "source": [
    "# Global variables Horizontal tail from guess all need to be honored\n",
    "pi=math.pi\n",
    "C_REF=0.32 #Mean geometric chord  estimated from Great shark F320\n",
    "S_REF= 1.27113701 # wing reference area\n",
    "V_H= 0.5 # from table 6.4 Needs to be calculted\n",
    "V_V= 0.04 # from table 6.4 Needs to be calculted\n",
    "D_f = 0.2 # estimated from Great shark F320\n",
    "K_C= 1 # ranges from 1 to 1.4 its a conenction factor page 300 pdf\n",
    "Sweep= 0 # 8 degress estimated from Great shark F320\n",
    "AR=10 # estimated from Great shark F320\n",
    "C_mo_wf = 0 # wing pitching moment coefficient\n",
    "C_m_af = -0.013 # airfoil section pitching moment coefficient\n",
    "aplha_t= 0 # twist angle\n",
    "W_s = 192.93750285 # from constrain diagram\n",
    "V_c = 22.0 # Airspeed Cruise\n",
    "V_s = 15.0 # Stall Speed\n",
    "V_h = 22 # effective airspeed at the horizontal tail region\n",
    "etha_h = 0.98 # Goes from 0.85 to 0.95 page 276 book\n",
    "\n",
    "# Parameters  Used to calculate the horizontal tail desired lift coefficient at cruise REVISE ALL!!!\n",
    "h = 0 # aircraft center of gravity\n",
    "l_L = 0.45 # lateral trim coefficient from table 6.2\n",
    "h_o= 0.23 # The aerodynamic center of the wing/fuselage combination is located at 23% of MAC\n",
    "cg_p = 0.32 # aircraft center of gravity is located at 32% of the fuselage length\n",
    "cg_d = 0.00 #!!! Assuming that the aircraft cg is 3 cm ahead of the wing/fuselage aerodynamic center. I INVENTED THIS VALUE !!!!!\n"
   ]
  },
  {
   "cell_type": "markdown",
   "metadata": {},
   "source": [
    "Horizontal Tail sizing Steps 1-8\n"
   ]
  },
  {
   "cell_type": "code",
   "execution_count": 3,
   "metadata": {},
   "outputs": [
    {
     "name": "stdout",
     "output_type": "stream",
     "text": [
      "Optimum tail moment arm = 1.1378793988497782\n",
      "Wing ptching moment coefficient =  -0.010833333333333334\n"
     ]
    }
   ],
   "source": [
    "# Horizontal Tail sizing\n",
    "L_opt = K_C*(np.sqrt((4*C_REF*S_REF*V_H)/(pi*D_f)))\n",
    "print(\"Optimum tail moment arm =\", L_opt)\n",
    "S_H = (V_H*S_REF*C_REF)/(L_opt)\n",
    "C_mo_wf = C_m_af*((AR*((np.cos(Sweep))*(np.cos(Sweep))))/(AR+(2*(np.cos(Sweep)))))+(0.01*aplha_t) # from xflr5 at cruise 0aoa wing gives -0.368\n",
    "print(\"Wing ptching moment coefficient = \", C_mo_wf)\n"
   ]
  },
  {
   "cell_type": "code",
   "execution_count": 4,
   "metadata": {},
   "outputs": [
    {
     "name": "stdout",
     "output_type": "stream",
     "text": [
      "Fuselage lenght =  2.5286208863328405 m\n",
      "Horizontal tail desired lift coefficient =  [-0.33268943]\n"
     ]
    }
   ],
   "source": [
    "rho_ac = ambient_props(altitide_cruise)[0]\n",
    "C_L=(2*(W_s))/(rho_ac*(V_c**2))\n",
    "# Finding h-ho from trim equation -- needs to be refines\n",
    "L_f = L_opt/l_L\n",
    "print (\"Fuselage lenght = \", L_f , \"m\")\n",
    "# X_appex = (-h_o*C_REF )+ (cg_p*L_f)+cg_d\n",
    "h = (h_o*C_REF) - cg_d   \n",
    "C_L_H_Opt = (C_mo_wf+(C_L*(h-h_o)))/(etha_h*V_H)# MOST IMPORTANT EQUATION IN TAIL DESIGN !!!! equation 6.29\n",
    "print (\"Horizontal tail desired lift coefficient = \",C_L_H_Opt)"
   ]
  },
  {
   "cell_type": "markdown",
   "metadata": {},
   "source": [
    "Horizontal tail arifoil selection\n",
    "* Tailplane airfoil lift curve slope (CLα_t ) = must be as large as possible along\n",
    "with a considerably wide usable angle of attack. Since the aircraft center of gravity moves\n",
    "during cruising flight \n",
    "* The airfoil section must be able to create sometimes a positive (+Lh)\n",
    "and sometimes a negative lift (−Lh). This requirement necessitates the tailplane behaving\n",
    "similarly in both positive and negative angles of attack. For this reason, a symmetric\n",
    "airfoil section is a suitable candidate for a horizontal tail.\n",
    "* Candidates:\n",
    "    * NACA 0009\n",
    "    * NACA 0012\n",
    "    * NACA 64A010\n",
    "    \n",
    "* Moreover, it is desired that the horizontal tail never stalls, and\n",
    "the wing must stall before the tail. Hence, the stall feature of the tail airfoil section (sharp\n",
    "or docile) is not significant.\n"
   ]
  },
  {
   "cell_type": "markdown",
   "metadata": {},
   "source": [
    "Horizontal tail steps 9-21"
   ]
  },
  {
   "cell_type": "code",
   "execution_count": 5,
   "metadata": {},
   "outputs": [
    {
     "name": "stdout",
     "output_type": "stream",
     "text": [
      "[-3.05488397]\n"
     ]
    }
   ],
   "source": [
    "AR_H = (2*AR/3)\n",
    "Taper_h=0.6 # Initially this should match the wing taper ratio\n",
    "Sweept_h=0 # Initially this should match the wing sweept\n",
    "C_l_h = 6.239746\n",
    "C_L_alpha = C_l_h/(1+(C_l_h/(pi*AR_H)))# Equation 6.57\n",
    "alpha_h= ((C_L_H_Opt/C_l_h)*180/pi)\n",
    "print(alpha_h)\n"
   ]
  }
 ],
 "metadata": {
  "kernelspec": {
   "display_name": "Python 3",
   "language": "python",
   "name": "python3"
  },
  "language_info": {
   "codemirror_mode": {
    "name": "ipython",
    "version": 3
   },
   "file_extension": ".py",
   "mimetype": "text/x-python",
   "name": "python",
   "nbconvert_exporter": "python",
   "pygments_lexer": "ipython3",
   "version": "3.11.5"
  }
 },
 "nbformat": 4,
 "nbformat_minor": 2
}
