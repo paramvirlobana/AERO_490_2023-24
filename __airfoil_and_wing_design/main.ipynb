{
 "cells": [
  {
   "cell_type": "code",
   "execution_count": 1,
   "metadata": {},
   "outputs": [],
   "source": [
    "import numpy as np\n",
    "from ambiance import Atmosphere"
   ]
  },
  {
   "cell_type": "code",
   "execution_count": 2,
   "metadata": {},
   "outputs": [],
   "source": [
    "# Defining atmospheric conditions with a function\n",
    "def ambient_props(altitude_meters):\n",
    "    atmosphere = Atmosphere(altitude_meters)\n",
    "    rho = atmosphere.density\n",
    "    nu = atmosphere.kinematic_viscosity\n",
    "    T = atmosphere.temperature\n",
    "    g = atmosphere.grav_accel\n",
    "\n",
    "    return rho, nu, T, g"
   ]
  },
  {
   "cell_type": "markdown",
   "metadata": {},
   "source": [
    "## Wing Design\n",
    "\n",
    "The following parameters are required for the airfoil and wing geometry design:\n",
    "\n",
    "1. Wing reference $S_W$ or $S_{ref}$ or $S$.\n",
    "2. Vertical position of the wings.\n",
    "3. Horizontal position relative to the fuselage.\n",
    "4. Airfoil.\n",
    "5. Aspect Ratio (AR).\n",
    "6. Taper Ratio ($\\lambda$).\n",
    "7. Tip Chord ($C_t$).\n",
    "8. Root Chord ($C_r$).\n",
    "9. Mean Aerodynamics Chord (MAC or C).\n",
    "10. Span (b).\n",
    "11. ~~Twist Angle (or washout) ($\\alpha_t$).~~\n",
    "12. Sweep angle ($\\Lambda$).\n",
    "13. ~~Diheadral Angle ($\\Tau$).~~\n",
    "14. Incidence or Setting Angle ($i_w$ or $\\alpha_{set}$ respectively).\n",
    "15. Ailerons.\n",
    "16. ~~High Lift Devices.~~\n",
    "17. Other Wing Accessories.\n",
    "\n",
    "### Airfoil Selection\n",
    "\n",
    "The follwoing equation governs the lift requirement for the cruise phase of the flight:\n",
    "$$L = W = \\frac{1}{2} \\rho V^2 S C_L $$\n",
    "\n"
   ]
  },
  {
   "cell_type": "code",
   "execution_count": 3,
   "metadata": {},
   "outputs": [],
   "source": [
    "# Import all the variables\n",
    "\n",
    "altitude = 4000 # ASL in metres \n",
    "\n",
    "## Do not change the following ______________________:)\n",
    "air = ambient_props(altitude)\n",
    "rho, nu , T, g = air[0], air[1], air[2], air[3]\n",
    "## __________________________________________________:)\n",
    "\n",
    "W_S = 210 # From fixed wing constraint diagram\n",
    "W = 25*9.81\n",
    "#l = 0.2 # section lift coefficient\n",
    "#d = 0.01 # sectional drag coefficient\n",
    "#m = 0.2 # section moment coefficient\n",
    "V = 20 # Mission velocity\n",
    "#C = 0.33 # Chord length\n",
    "S = W/W_S # Planform area\n",
    "V_s = 20 # Stall speed"
   ]
  },
  {
   "cell_type": "markdown",
   "metadata": {},
   "source": [
    "### Practical Steps for Wing Airfoil Section Selection\n",
    "\n",
    "1. Determine the average aircraft weight ($W_{avg}$) in cruising flight.\n",
    "$$W = W_{avg}$$\n",
    "2. Calculate the aircraft ideal cruise lift coefficient ($C_{L_C}$) using the following station:\n",
    "$$C_{L_C} = \\frac{2 W_{avg}}{\\rho V^2 S}$$\n",
    "3. Wing Cruise Lift Coefficient\n",
    "$$C_{L_{C_W}} = \\frac{C_{L_C}}{0.95}$$\n",
    "4. Wing airfoil ideal lift coefficient ($C_{l_{i}}$):\n",
    "$$C_{l_{i}} = \\frac{C_{L_{C_W}}}{0.9}$$\n",
    "5. Aircraft maximum lift coefficient ($C_{L_{max}}$):\n",
    "$$C_{L_{max}} = \\frac{2W_{TO}}{\\rho_{0} V_s^2 S}$$\n"
   ]
  },
  {
   "cell_type": "code",
   "execution_count": 4,
   "metadata": {},
   "outputs": [
    {
     "name": "stdout",
     "output_type": "stream",
     "text": [
      "[1.28150895]\n",
      "[1.34895679]\n",
      "[1.49884088]\n",
      "[17.14285689]\n"
     ]
    }
   ],
   "source": [
    "C_L_C = (2 * W) / (rho * V**2 * S)\n",
    "C_L_C_W = C_L_C / 0.95\n",
    "C_l_i = C_L_C_W / 0.9\n",
    "C_L_max = (2 * W) / (ambient_props(0)[0] * V_s *S )\n",
    "\n",
    "print(C_L_C)\n",
    "print(C_L_C_W)\n",
    "print(C_l_i)\n",
    "print(C_L_max)"
   ]
  }
 ],
 "metadata": {
  "kernelspec": {
   "display_name": "vsppytools",
   "language": "python",
   "name": "python3"
  },
  "language_info": {
   "codemirror_mode": {
    "name": "ipython",
    "version": 3
   },
   "file_extension": ".py",
   "mimetype": "text/x-python",
   "name": "python",
   "nbconvert_exporter": "python",
   "pygments_lexer": "ipython3",
   "version": "3.9.18"
  }
 },
 "nbformat": 4,
 "nbformat_minor": 2
}
