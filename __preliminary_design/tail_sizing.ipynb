{
 "cells": [
  {
   "cell_type": "code",
   "execution_count": 85,
   "metadata": {},
   "outputs": [],
   "source": [
    "import math\n",
    "import numpy as np\n",
    "from scipy.optimize import fsolve\n",
    "from ambiance import Atmosphere\n",
    "import matplotlib.pyplot as plt\n",
    "import json\n",
    "\n",
    "# Defining atmospheric conditions with a function\n",
    "def ambient_props(altitude_meters):\n",
    "    atmosphere = Atmosphere(altitude_meters)\n",
    "    rho = atmosphere.density\n",
    "    nu = atmosphere.kinematic_viscosity\n",
    "    T = atmosphere.temperature\n",
    "    g = atmosphere.grav_accel\n",
    "    return rho, nu, T, g\n",
    "\n",
    "# Import all the variables\n",
    "altitude = 0 # ASL in metres \n",
    "altitide_cruise = 4000 # ASL in metres \n",
    "## Do not change the following ______________________:)\n",
    "air = ambient_props(altitude)\n",
    "rho, nu ,  T, g = air[0], air[1], air[2], air[3]\n",
    "## __________________________________________________:)\n",
    "# Read JSON\n",
    "with open(\"reports\\wing_sizing_res.json\", \"r\") as f:\n",
    "    data = json.load(f)"
   ]
  },
  {
   "cell_type": "code",
   "execution_count": 86,
   "metadata": {},
   "outputs": [],
   "source": [
    "# Global variables Horizontal tail from guess all need to be honored\n",
    "pi=math.pi\n",
    "\n",
    "# Data from wing sizing\n",
    "C_REF= float(data[\"C_tip\"])        # Mean geometric chord\n",
    "S_REF= float(data[\"S_req\"])        # wing reference area\n",
    "b_wing = float(data[\"b_req\"])      # meters\n",
    "AR = float(data[\"AR\"])             # estimated from Great shark F320\n",
    "alpha_0 = 0.000001\n",
    "W_s = float(data[\"W_S\"])\n",
    "V_c = float(data[\"V\"])             # Airspeed Cruise\n",
    "V_s = float(data[\"V_s\"])       # Stall Speed\n",
    "V_h = V_c                    # effective airspeed at the horizontal tail region\n",
    "\n",
    "#--------------------------------------------------------------------------------#\n",
    "# The following values need to be  updated manually\n",
    "alpha_f=0.0001              # update this value if wing design is changed\n",
    "alpha_w= 1.9                # degrees update this value if the wing is installed at an angle\n",
    "#--------------------------------------------------------------------------------#\n",
    "\n",
    "V_H = 0.5                   # from table 6.4 Needs to be calculted\n",
    "V_V = 0.033                 # from table 6.4 = 0.04 but from very similar aircraft\n",
    "D_f = 0.2                   # estimated from Great shark F320\n",
    "K_C = 1                     # ranges from 1 to 1.4 its a conenction factor page 300 pdf\n",
    "Sweep= 0                    # 8 degress estimated from Great shark F320\n",
    "\n",
    "C_mo_wf = 0                 # wing pitching moment coefficient\n",
    "C_m_af = -0.013             # airfoil section pitching moment coefficient\n",
    "alpha_t= 0.0000             # twist angle\n",
    "\n",
    "\n",
    "etha_h = 0.98               # Goes from 0.85 to 0.95 page 276 book\n",
    "\n",
    "# Parameters  Used to calculate the horizontal tail desired lift coefficient at cruise REVISE ALL!!!\n",
    "h = 0                       # aircraft center of gravity\n",
    "l_L = 0.45                  # lateral trim coefficient from table 6.2\n",
    "h_o= 0.25                   # The aerodynamic center of the wing/fuselage combination is located at \n",
    "                            # 23% of MAC\n",
    "#cg_p = 0.32 # aircraft center of gravity is located at 32% of the fuselage length\n",
    "cg_d = 0.033                #!!! Assuming that the aircraft cg is 3.3 cm ahead of the wing/fuselage \n",
    "                            #aerodynamic center. I INVENTED THIS VALUE !!!!!\n",
    "error_tolerance = 0.001     # Tolerance for the error\n",
    "N = 9                       # (number of segments-1)"
   ]
  },
  {
   "cell_type": "markdown",
   "metadata": {},
   "source": [
    "Horizontal Tail sizing\n",
    "1. Select horizontal tail volume coefficient, V_H (Table 6.4).\n",
    "2. Calculate optimum tail moment arm (l_opt) to minimize the aircraft drag and weight (Section 6.6).\n",
    "3. Calculate horizontal tail planform area, S_h (Equation (6.24)).\n",
    "6. Calculate wing/fuselage aerodynamic pitching moment coefficient C_mo_wf (Equation (6.26)).\n",
    "\n"
   ]
  },
  {
   "cell_type": "code",
   "execution_count": 87,
   "metadata": {},
   "outputs": [
    {
     "name": "stdout",
     "output_type": "stream",
     "text": [
      "Optimum tail moment arm = 0.7767926624417907\n",
      "Tail plataform area = 0.12201830608447928\n",
      "Wing ptching moment coefficient = -0.010636363636363637\n"
     ]
    }
   ],
   "source": [
    "L_opt = K_C*(np.sqrt((4*C_REF*S_REF*V_H)/(pi*D_f)))\n",
    "print(\"Optimum tail moment arm =\", L_opt)\n",
    "S_h= (V_H*S_REF*C_REF)/(L_opt)\n",
    "print(\"Tail plataform area =\", S_h)\n",
    "C_mo_wf = C_m_af*((AR*((np.cos((math.radians(Sweep))))*(np.cos((math.radians(Sweep))))))/(AR+(2*(np.cos((math.radians(Sweep)))))))+(0.01*alpha_t) # from xflr5 at cruise 0aoa wing gives -0.368\n",
    "print(\"Wing ptching moment coefficient =\", C_mo_wf)\n"
   ]
  },
  {
   "cell_type": "markdown",
   "metadata": {},
   "source": [
    "7. Calculate cruise lift coefficient, C_L_c (Equation (6.27)).\n",
    "8. Calculate horizontal tail desired lift coefficient at cruise from trim (Equation (6.29))."
   ]
  },
  {
   "cell_type": "code",
   "execution_count": 88,
   "metadata": {},
   "outputs": [
    {
     "name": "stdout",
     "output_type": "stream",
     "text": [
      "Cruise lift coefficient = [0.97304657]\n",
      "Fuselage lenght =  1.7262059165373125 m\n",
      "Horizontal tail desired lift coefficient =  [-0.44658566]\n"
     ]
    }
   ],
   "source": [
    "rho_ac = ambient_props(altitide_cruise)[0]\n",
    "C_L_c_w=(2*(W_s))/(rho_ac*(V_c**2))\n",
    "print(\"Cruise lift coefficient =\", C_L_c_w)\n",
    "L_f = L_opt/l_L # Finding h-ho from trim equation -- needs to be refines\n",
    "print (\"Fuselage lenght = \", L_f , \"m\")\n",
    "#X_appex = (-h_o*C_REF )+ (cg_p*L_f)+cg_d\n",
    "h = (h_o*C_REF) - cg_d   \n",
    "C_L_h_Opt = (C_mo_wf+(C_L_c_w*(h-h_o)))/(etha_h*V_H)# MOST IMPORTANT EQUATION IN TAIL DESIGN !!!! equation 6.29\n",
    "print (\"Horizontal tail desired lift coefficient = \",C_L_h_Opt)"
   ]
  },
  {
   "cell_type": "code",
   "execution_count": 89,
   "metadata": {},
   "outputs": [
    {
     "name": "stdout",
     "output_type": "stream",
     "text": [
      "Tail angle of attack in cruise = [-4.1007236] degrees\n"
     ]
    }
   ],
   "source": [
    "AR_h = (2*AR/3)\n",
    "Taper_h=0.6 # Initially this should match the wing taper ratio\n",
    "Sweept_h=0.0000 # Initially this should match the wing sweept\n",
    "C_l_alpha_h = 6.239746# data from airfoil\n",
    "C_L_alpha = C_l_alpha_h/(1+(C_l_alpha_h/(pi*AR_h)))# Equation 6.57\n",
    "\n",
    "alpha_h = np.rad2deg((C_L_h_Opt/C_l_alpha_h))\n",
    "print(\"Tail angle of attack in cruise =\",alpha_h,\"degrees\")\n",
    "\n"
   ]
  },
  {
   "cell_type": "markdown",
   "metadata": {},
   "source": [
    "9. Using thin airfoil theory check if tail is providing enough lift"
   ]
  },
  {
   "cell_type": "code",
   "execution_count": 90,
   "metadata": {},
   "outputs": [
    {
     "name": "stdout",
     "output_type": "stream",
     "text": [
      "Horizontal tail surface area = 0.12201830608447928\n",
      "Horizontal tail aspect ratio = 6.0\n",
      "Horizontal tail aspect ratio = 0.6\n",
      "Airfoil lift curve slope 6.239746\n",
      "Horixontal tail twist angle = 0.0\n",
      "Horizontal tail estimated angle of attack = [-4.1007236]\n",
      "Zero anlge of attack = 1e-06\n"
     ]
    }
   ],
   "source": [
    "# Data for employing the lifting line theory calculate the tail lift coefficient using the obtained angle of attack\n",
    "print(\"Horizontal tail surface area =\",S_h) \n",
    "print(\"Horizontal tail aspect ratio =\",AR_h)\n",
    "print(\"Horizontal tail aspect ratio =\",Taper_h)\n",
    "print(\"Airfoil lift curve slope\",C_l_alpha_h )\n",
    "print(\"Horixontal tail twist angle =\",alpha_t)\n",
    "print(\"Horizontal tail estimated angle of attack =\",alpha_h)\n",
    "print(\"Zero anlge of attack =\",alpha_0)\n"
   ]
  },
  {
   "cell_type": "code",
   "execution_count": 91,
   "metadata": {},
   "outputs": [
    {
     "name": "stdout",
     "output_type": "stream",
     "text": [
      "Horizontal tail lift coefficient = -0.6745421593484044 & Required coefficient is [-0.44658566] So your tail is providing enough lift\n"
     ]
    }
   ],
   "source": [
    "\n",
    "b_h = np.sqrt(AR_h * S_h)  # Update the variable name\n",
    "theta = np.linspace(np.pi / (2 * N), np.pi / 2, N)\n",
    "alpha = alpha_h + alpha_t - np.linspace(0, alpha_t, N)\n",
    "z = (b_h / 2) * np.cos(theta)\n",
    "c = C_REF * (1 - (1 - Taper_h) * np.cos(theta))  # Mean Aerodynamic Chord at each segment\n",
    "mu = c * C_l_alpha_h / (4 * b_h)\n",
    "LHS = mu * (np.deg2rad(alpha) - np.deg2rad(alpha_0))\n",
    "B = np.zeros((N, N))\n",
    "A = np.zeros(N)\n",
    "for i in range(N):\n",
    "    for j in range(N):\n",
    "        B[i, j] = np.sin((2 * j - 1) * theta[i]) * (1 + (mu[i] * (2 * j - 1)) / np.sin(theta[i]))\n",
    "A = np.linalg.solve(B, LHS)\n",
    "sum1 = np.zeros(N)\n",
    "sum2 = np.zeros(N)\n",
    "\n",
    "for i in range(N):\n",
    "    for j in range(N):\n",
    "        sum1[i] += (2 * j - 1) * A[j] * np.sin((2 * j - 1) * theta[i])\n",
    "        sum2[i] += A[j] * np.sin((2 * j - 1) * theta[i])\n",
    "CL_tail = np.pi * AR_h * A[0]  # Update the variable name\n",
    "if abs(CL_tail)>  abs(C_L_h_Opt):\n",
    "    print(\"Horizontal tail lift coefficient =\", CL_tail, \"& Required coefficient is\", C_L_h_Opt, \"So your tail is providing enough lift\")\n",
    "else:\n",
    "    print(\"You are not providing enough lift; try changing your tail angle\")\n"
   ]
  },
  {
   "cell_type": "markdown",
   "metadata": {},
   "source": [
    "10. We now need to take into account the downwhas effects from the wing"
   ]
  },
  {
   "cell_type": "code",
   "execution_count": 92,
   "metadata": {},
   "outputs": [],
   "source": [
    "e_o = (2*C_L_c_w)/(pi*AR)\n",
    "deltha_e_deltha_a = (2*C_L_alpha)/(pi*AR)\n",
    "e=e_o+(deltha_e_deltha_a*np.deg2rad(alpha_w))\n",
    "i_h= alpha_h-alpha_f+np.rad2deg(e)\n"
   ]
  },
  {
   "cell_type": "code",
   "execution_count": 93,
   "metadata": {},
   "outputs": [
    {
     "name": "stdout",
     "output_type": "stream",
     "text": [
      "The final dimension of the Horizontal tail are:\n",
      "Spam = 0.85563 m\n",
      "MAC = 0.14261 m\n",
      "Root chord = 0.17462 m\n",
      "Tip chord = 0.10477 m\n",
      "Surface area = 0.12202 m^2\n",
      "Aspect ratio = 6.00000 \n",
      "Tail setting angle = 0.47283 degrees\n",
      "Airfoil = S9032 (9%)\n"
     ]
    }
   ],
   "source": [
    "b_h = np.sqrt(AR_h * S_h)\n",
    "C_h = b_h/AR_h\n",
    "C_h_root=(3*C_h/2)/((1+Taper_h+(Taper_h**2))/(1+Taper_h))\n",
    "C_h_tip = Taper_h* C_h_root\n",
    "print(\"The final dimension of the Horizontal tail are:\")\n",
    "print(\"Spam = {0:1.5f}\".format(b_h), \"m\")\n",
    "print(\"MAC = {0:1.5f}\".format(C_h), \"m\")\n",
    "print(\"Root chord = {0:1.5f}\".format(C_h_root), \"m\")\n",
    "print(\"Tip chord = {0:1.5f}\".format(C_h_tip), \"m\")\n",
    "print(\"Surface area = {0:1.5f}\".format(S_h), \"m^2\")\n",
    "print(\"Aspect ratio = {0:1.5f}\".format(AR_h), \"\")\n",
    "print(\"Tail setting angle = {0:1.5f}\".format(*i_h), \"degrees\")\n",
    "print(\"Airfoil = S9032 (9%)\")"
   ]
  },
  {
   "cell_type": "markdown",
   "metadata": {},
   "source": [
    "Vertical tail sizing using volume method\n",
    "Data:"
   ]
  },
  {
   "cell_type": "code",
   "execution_count": 94,
   "metadata": {},
   "outputs": [
    {
     "name": "stdout",
     "output_type": "stream",
     "text": [
      "0.10477153128052936\n"
     ]
    }
   ],
   "source": [
    "l_V = L_opt#Value taken from \"optimum tail moment arm\" in horizontal tail doc \n",
    "C_v_root=C_h_tip\n",
    "print(C_v_root)"
   ]
  },
  {
   "cell_type": "code",
   "execution_count": 95,
   "metadata": {},
   "outputs": [
    {
     "name": "stdout",
     "output_type": "stream",
     "text": [
      "Each vertical Tail Planform Area = 0.03623899950214765 m^2\n"
     ]
    }
   ],
   "source": [
    "S_V_total = (b_wing*S_REF*V_V)/l_V \n",
    "S_V_each = S_V_total/2\n",
    "print(\"Each vertical Tail Planform Area =\", S_V_each, \"m^2\")\n",
    "C_v = C_v_root # since not taper will be used\n",
    "C_v_tip = C_v_root\n",
    "Taper_v = C_v_tip/C_v_root\n",
    "b_v = S_V_each/C_v_root\n",
    "AR_v = b_v/C_v"
   ]
  },
  {
   "cell_type": "code",
   "execution_count": 96,
   "metadata": {},
   "outputs": [
    {
     "name": "stdout",
     "output_type": "stream",
     "text": [
      "The final dimension of one vertical tail are:\n",
      "Spam = 0.34589 m\n",
      "MAC = 0.10477 m\n",
      "Root chord = 0.10477 m\n",
      "Tip chord = 0.10477 m\n",
      "Surface area = 0.03624 m^2\n",
      "Aspect ratio = 3.30134 \n",
      "Airfoil = S9032 (9%)\n"
     ]
    }
   ],
   "source": [
    "print(\"The final dimension of one vertical tail are:\")\n",
    "print(\"Spam = {0:1.5f}\".format(b_v), \"m\")\n",
    "print(\"MAC = {0:1.5f}\".format(C_v), \"m\")\n",
    "print(\"Root chord = {0:1.5f}\".format(C_v_root), \"m\")\n",
    "print(\"Tip chord = {0:1.5f}\".format(C_v_tip), \"m\")\n",
    "print(\"Surface area = {0:1.5f}\".format(S_V_each), \"m^2\")\n",
    "print(\"Aspect ratio = {0:1.5f}\".format(AR_v), \"\")\n",
    "print(\"Airfoil = S9032 (9%)\")"
   ]
  }
 ],
 "metadata": {
  "kernelspec": {
   "display_name": "Python 3",
   "language": "python",
   "name": "python3"
  },
  "language_info": {
   "codemirror_mode": {
    "name": "ipython",
    "version": 3
   },
   "file_extension": ".py",
   "mimetype": "text/x-python",
   "name": "python",
   "nbconvert_exporter": "python",
   "pygments_lexer": "ipython3",
   "version": "3.9.18"
  }
 },
 "nbformat": 4,
 "nbformat_minor": 2
}
